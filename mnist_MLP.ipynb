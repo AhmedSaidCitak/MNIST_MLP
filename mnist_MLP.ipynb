{
 "cells": [
  {
   "cell_type": "code",
   "execution_count": 23,
   "id": "4885e6ca-b523-4e0d-b8fa-cae3d2bd0036",
   "metadata": {},
   "outputs": [],
   "source": [
    "import numpy as np\n",
    "import mnist\n",
    "from tensorflow import keras\n",
    "import tensorflow.keras as ker\n",
    "from tensorflow.keras.layers import Input,Dense,Flatten,Dropout,Reshape,Conv2D,MaxPooling2D,UpSampling2D,Conv2DTranspose,concatenate,add,MaxPool2D\n",
    "from tensorflow.keras.layers import BatchNormalization,Conv3D,ConvLSTM2D,Conv3DTranspose,Permute,MaxPooling3D,UpSampling3D,GlobalAveragePooling2D\n",
    "from tensorflow.keras.layers import Conv2DTranspose,Concatenate,ReLU\n",
    "from tensorflow.keras.activations import sigmoid\n",
    "from tensorflow.keras.models import Model,Sequential\n",
    "from tensorflow.keras.callbacks import ModelCheckpoint,EarlyStopping\n",
    "from tensorflow.keras.optimizers import Adam, SGD\n",
    "from tensorflow.keras.utils import to_categorical\n",
    "from tensorflow.keras import regularizers, utils\n",
    "from keras.preprocessing.image import ImageDataGenerator\n",
    "from sklearn.metrics import classification_report, confusion_matrix, accuracy_score\n",
    "from sklearn.model_selection import train_test_split\n",
    "from sklearn.utils import class_weight\n",
    "from sklearn.decomposition import PCA\n",
    "from tensorflow.keras.applications import ResNet50, ResNet101, ResNet152V2"
   ]
  },
  {
   "cell_type": "code",
   "execution_count": 24,
   "id": "c45d2647-6eb4-4a86-87f8-f91d5ce5cd9e",
   "metadata": {},
   "outputs": [],
   "source": [
    "seed = 1\n",
    "path = 'D:\\Bixbyte\\MLP'\n",
    "model_path = path + '\\mnist\\model_mnist_MLP_' + str(seed) + '.h5'"
   ]
  },
  {
   "cell_type": "code",
   "execution_count": 25,
   "id": "cf743adb-fca7-4adc-85aa-f3cf9b7a7d07",
   "metadata": {},
   "outputs": [
    {
     "name": "stdout",
     "output_type": "stream",
     "text": [
      "(60000, 28, 28)\n",
      "(60000,)\n"
     ]
    }
   ],
   "source": [
    "train_images = mnist.train_images()\n",
    "train_labels = mnist.train_labels()\n",
    "\n",
    "print(train_images.shape) # (60000, 28, 28)\n",
    "print(train_labels.shape) # (60000,)"
   ]
  },
  {
   "cell_type": "code",
   "execution_count": 26,
   "id": "de32913d-236e-412b-830a-575026082995",
   "metadata": {},
   "outputs": [
    {
     "name": "stdout",
     "output_type": "stream",
     "text": [
      "(60000, 784)\n",
      "(10000, 784)\n"
     ]
    }
   ],
   "source": [
    "train_images = mnist.train_images()\n",
    "train_labels = mnist.train_labels()\n",
    "test_images = mnist.test_images()\n",
    "test_labels = mnist.test_labels()\n",
    "\n",
    "# Normalize the images.\n",
    "train_images = (train_images / 255)\n",
    "test_images = (test_images / 255)\n",
    "\n",
    "# Flatten the images.\n",
    "train_images = train_images.reshape((-1, 784))\n",
    "test_images = test_images.reshape((-1, 784))\n",
    "\n",
    "print(train_images.shape) # (60000, 784)\n",
    "print(test_images.shape)  # (10000, 784)"
   ]
  },
  {
   "cell_type": "code",
   "execution_count": 27,
   "id": "f85de072-541d-4af5-9548-519e88b4b4bf",
   "metadata": {},
   "outputs": [],
   "source": [
    "class_size = 10\n",
    "input_shape = (784,)\n",
    "input_feature = Input(input_shape)"
   ]
  },
  {
   "cell_type": "code",
   "execution_count": 28,
   "id": "d84e15d7-0742-4b1c-bbb7-36d65b910d43",
   "metadata": {},
   "outputs": [
    {
     "data": {
      "text/plain": [
       "array([[0., 0., 0., ..., 0., 0., 0.],\n",
       "       [0., 0., 0., ..., 0., 0., 0.],\n",
       "       [0., 0., 0., ..., 0., 0., 0.],\n",
       "       ...,\n",
       "       [0., 0., 0., ..., 0., 0., 0.],\n",
       "       [0., 0., 0., ..., 0., 0., 0.],\n",
       "       [0., 0., 0., ..., 0., 0., 0.]])"
      ]
     },
     "execution_count": 28,
     "metadata": {},
     "output_type": "execute_result"
    }
   ],
   "source": [
    "train_images"
   ]
  },
  {
   "cell_type": "code",
   "execution_count": 30,
   "id": "0c0a9d69-6543-4173-a2c1-66f0e7a17825",
   "metadata": {},
   "outputs": [
    {
     "data": {
      "text/plain": [
       "array([5, 0, 4, ..., 5, 6, 8], dtype=uint8)"
      ]
     },
     "execution_count": 30,
     "metadata": {},
     "output_type": "execute_result"
    }
   ],
   "source": [
    "train_labels"
   ]
  },
  {
   "cell_type": "code",
   "execution_count": 31,
   "id": "ad9f8b07-1642-46f8-bf6b-e314fc02a8f3",
   "metadata": {},
   "outputs": [
    {
     "data": {
      "text/plain": [
       "array([[0., 0., 0., ..., 0., 0., 0.],\n",
       "       [0., 0., 0., ..., 0., 0., 0.],\n",
       "       [0., 0., 0., ..., 0., 0., 0.],\n",
       "       ...,\n",
       "       [0., 0., 0., ..., 0., 0., 0.],\n",
       "       [0., 0., 0., ..., 0., 0., 0.],\n",
       "       [0., 0., 0., ..., 0., 0., 0.]])"
      ]
     },
     "execution_count": 31,
     "metadata": {},
     "output_type": "execute_result"
    }
   ],
   "source": [
    "test_images"
   ]
  },
  {
   "cell_type": "code",
   "execution_count": 32,
   "id": "8bfdae77-abd8-4d8e-9ed8-622bb7df9c1b",
   "metadata": {},
   "outputs": [
    {
     "data": {
      "text/plain": [
       "array([7, 2, 1, ..., 4, 5, 6], dtype=uint8)"
      ]
     },
     "execution_count": 32,
     "metadata": {},
     "output_type": "execute_result"
    }
   ],
   "source": [
    "test_labels"
   ]
  },
  {
   "cell_type": "code",
   "execution_count": 33,
   "id": "f2a5d7af-7d7f-4254-a7c8-beb669d6f245",
   "metadata": {},
   "outputs": [],
   "source": [
    "x_train, x_val, y_train, y_val = train_test_split(train_images, train_labels, test_size=0.1, random_state=seed)\n",
    "\n",
    "train_size = x_train.shape[0]\n",
    "val_size = x_val.shape[0]"
   ]
  },
  {
   "cell_type": "code",
   "execution_count": 34,
   "id": "cab600ce-fb4e-4204-81d7-7ce9d0eff0be",
   "metadata": {},
   "outputs": [],
   "source": [
    "class_weights = class_weight.compute_class_weight(class_weight='balanced',\n",
    "                                                 classes=np.unique(y_train),\n",
    "                                                 y=y_train)"
   ]
  },
  {
   "cell_type": "code",
   "execution_count": 35,
   "id": "b4817051-f60f-445e-984e-796c542f6b8d",
   "metadata": {},
   "outputs": [],
   "source": [
    "class_weights = {i : class_weights[i] for i in range(class_size)}"
   ]
  },
  {
   "cell_type": "code",
   "execution_count": 36,
   "id": "fdb780a0-78dc-43a1-bef9-0523cc6ea0c8",
   "metadata": {},
   "outputs": [],
   "source": [
    "y_train = to_categorical(y_train)\n",
    "y_val = to_categorical(y_val)"
   ]
  },
  {
   "cell_type": "code",
   "execution_count": 37,
   "id": "29c89d32-567e-4a05-9d18-a7b22060f47f",
   "metadata": {},
   "outputs": [],
   "source": [
    "# Acc. 0.86\n",
    "def fcnn(encoded):\n",
    "    dense0 = Dropout(0.2)(encoded)\n",
    "    dense0 = BatchNormalization()(dense0)\n",
    "\n",
    "    dense1 = Dense(256)(dense0)\n",
    "    dense1 = Dropout(0.3)(dense1)\n",
    "    dense1 = BatchNormalization()(dense1)\n",
    "    dense1 = ReLU()(dense1)\n",
    "    \n",
    "    dense2 = Dense(32)(dense1)\n",
    "    dense2 = Dropout(0.4)(dense2)\n",
    "    dense2 = BatchNormalization()(dense2)\n",
    "    dense2 = ReLU()(dense2)\n",
    "\n",
    "    out = Dense(class_size, activation='softmax')(dense2)\n",
    "    return out"
   ]
  },
  {
   "cell_type": "code",
   "execution_count": 61,
   "id": "45c814ea-597e-4e1d-9ebb-eafcc3d7ddb5",
   "metadata": {},
   "outputs": [],
   "source": [
    "# Acc. 0.98\n",
    "def fcnn(encoded):\n",
    "    dense0 = Dropout(0.2)(encoded)\n",
    "    dense0 = BatchNormalization()(dense0)\n",
    "\n",
    "    dense1 = Dense(128)(dense0)\n",
    "    dense1 = Dropout(0.3)(dense1)\n",
    "    dense1 = BatchNormalization()(dense1)\n",
    "    dense1 = ReLU()(dense1)\n",
    "    \n",
    "    dense2 = Dense(64)(dense1)\n",
    "    dense2 = Dropout(0.4)(dense2)\n",
    "    dense2 = BatchNormalization()(dense2)\n",
    "    dense2 = ReLU()(dense2)\n",
    "\n",
    "    out = Dense(class_size, activation='softmax')(dense2)\n",
    "    return out"
   ]
  },
  {
   "cell_type": "code",
   "execution_count": 62,
   "id": "b3466911-b35a-4d69-8d05-198fd4384577",
   "metadata": {},
   "outputs": [],
   "source": [
    "adam = Adam(learning_rate=0.005)\n",
    "model_full = Model(input_feature, fcnn(input_feature))\n",
    "model_full.compile(loss='categorical_crossentropy', optimizer=adam, metrics=['accuracy'])"
   ]
  },
  {
   "cell_type": "code",
   "execution_count": 63,
   "id": "9b5df769-fa7a-46c3-984f-25f4960bfe5c",
   "metadata": {},
   "outputs": [
    {
     "name": "stdout",
     "output_type": "stream",
     "text": [
      "Epoch 1/1000\n",
      "1688/1688 [==============================] - 6s 3ms/step - loss: 0.4578 - accuracy: 0.8617 - val_loss: 0.2038 - val_accuracy: 0.9423\n",
      "Epoch 2/1000\n",
      "1688/1688 [==============================] - 6s 3ms/step - loss: 0.3086 - accuracy: 0.9065 - val_loss: 0.1598 - val_accuracy: 0.9528\n",
      "Epoch 3/1000\n",
      "1688/1688 [==============================] - 6s 3ms/step - loss: 0.2626 - accuracy: 0.9195 - val_loss: 0.1407 - val_accuracy: 0.9610\n",
      "Epoch 4/1000\n",
      "1688/1688 [==============================] - 6s 3ms/step - loss: 0.2447 - accuracy: 0.9255 - val_loss: 0.1357 - val_accuracy: 0.9622\n",
      "Epoch 5/1000\n",
      "1688/1688 [==============================] - 6s 3ms/step - loss: 0.2287 - accuracy: 0.9304 - val_loss: 0.1196 - val_accuracy: 0.9678\n",
      "Epoch 6/1000\n",
      "1688/1688 [==============================] - 6s 3ms/step - loss: 0.2186 - accuracy: 0.9340 - val_loss: 0.1228 - val_accuracy: 0.9663oss: 0.2108 \n",
      "Epoch 7/1000\n",
      "1688/1688 [==============================] - 6s 4ms/step - loss: 0.2097 - accuracy: 0.9359 - val_loss: 0.1119 - val_accuracy: 0.9698\n",
      "Epoch 8/1000\n",
      "1688/1688 [==============================] - 6s 3ms/step - loss: 0.2023 - accuracy: 0.9379 - val_loss: 0.1163 - val_accuracy: 0.9692\n",
      "Epoch 9/1000\n",
      "1688/1688 [==============================] - 6s 3ms/step - loss: 0.1922 - accuracy: 0.9408 - val_loss: 0.1073 - val_accuracy: 0.9710\n",
      "Epoch 10/1000\n",
      "1688/1688 [==============================] - 6s 3ms/step - loss: 0.1925 - accuracy: 0.9413 - val_loss: 0.1052 - val_accuracy: 0.9710\n",
      "Epoch 11/1000\n",
      "1688/1688 [==============================] - 6s 3ms/step - loss: 0.1867 - accuracy: 0.9434 - val_loss: 0.1076 - val_accuracy: 0.9697\n",
      "Epoch 12/1000\n",
      "1688/1688 [==============================] - 6s 3ms/step - loss: 0.1840 - accuracy: 0.9445 - val_loss: 0.1029 - val_accuracy: 0.9712\n",
      "Epoch 13/1000\n",
      "1688/1688 [==============================] - 6s 3ms/step - loss: 0.1776 - accuracy: 0.9442 - val_loss: 0.1126 - val_accuracy: 0.9710\n",
      "Epoch 14/1000\n",
      "1688/1688 [==============================] - 6s 3ms/step - loss: 0.1784 - accuracy: 0.9453 - val_loss: 0.1103 - val_accuracy: 0.9715\n",
      "Epoch 15/1000\n",
      "1688/1688 [==============================] - 6s 3ms/step - loss: 0.1714 - accuracy: 0.9472 - val_loss: 0.1067 - val_accuracy: 0.9707\n",
      "Epoch 16/1000\n",
      "1688/1688 [==============================] - 6s 3ms/step - loss: 0.1726 - accuracy: 0.9468 - val_loss: 0.1003 - val_accuracy: 0.9738\n",
      "Epoch 17/1000\n",
      "1688/1688 [==============================] - 6s 3ms/step - loss: 0.1695 - accuracy: 0.9483 - val_loss: 0.1004 - val_accuracy: 0.9715\n",
      "Epoch 18/1000\n",
      "1688/1688 [==============================] - 6s 3ms/step - loss: 0.1650 - accuracy: 0.9494 - val_loss: 0.1022 - val_accuracy: 0.9718\n",
      "Epoch 19/1000\n",
      "1688/1688 [==============================] - 6s 3ms/step - loss: 0.1685 - accuracy: 0.9483 - val_loss: 0.1024 - val_accuracy: 0.9738\n",
      "Epoch 20/1000\n",
      "1688/1688 [==============================] - 6s 3ms/step - loss: 0.1627 - accuracy: 0.9497 - val_loss: 0.1003 - val_accuracy: 0.9725\n",
      "Epoch 21/1000\n",
      "1688/1688 [==============================] - 6s 3ms/step - loss: 0.1641 - accuracy: 0.9504 - val_loss: 0.1073 - val_accuracy: 0.9703\n",
      "Epoch 22/1000\n",
      "1688/1688 [==============================] - 6s 3ms/step - loss: 0.1593 - accuracy: 0.9504 - val_loss: 0.1070 - val_accuracy: 0.9702\n",
      "Epoch 23/1000\n",
      "1688/1688 [==============================] - 6s 3ms/step - loss: 0.1602 - accuracy: 0.9505 - val_loss: 0.0998 - val_accuracy: 0.9732\n",
      "Epoch 24/1000\n",
      "1688/1688 [==============================] - 6s 3ms/step - loss: 0.1594 - accuracy: 0.9511 - val_loss: 0.0972 - val_accuracy: 0.9735\n",
      "Epoch 25/1000\n",
      "1688/1688 [==============================] - 6s 3ms/step - loss: 0.1557 - accuracy: 0.9520 - val_loss: 0.0983 - val_accuracy: 0.9738\n",
      "Epoch 26/1000\n",
      "1688/1688 [==============================] - 6s 3ms/step - loss: 0.1543 - accuracy: 0.9530 - val_loss: 0.0968 - val_accuracy: 0.9747\n",
      "Epoch 27/1000\n",
      "1688/1688 [==============================] - 6s 3ms/step - loss: 0.1529 - accuracy: 0.9521 - val_loss: 0.1004 - val_accuracy: 0.9752\n",
      "Epoch 28/1000\n",
      "1688/1688 [==============================] - 6s 3ms/step - loss: 0.1542 - accuracy: 0.9524 - val_loss: 0.0913 - val_accuracy: 0.9748\n",
      "Epoch 29/1000\n",
      "1688/1688 [==============================] - 6s 3ms/step - loss: 0.1485 - accuracy: 0.9534 - val_loss: 0.0987 - val_accuracy: 0.9717\n",
      "Epoch 30/1000\n",
      "1688/1688 [==============================] - 6s 3ms/step - loss: 0.1514 - accuracy: 0.9522 - val_loss: 0.0979 - val_accuracy: 0.9733\n",
      "Epoch 31/1000\n",
      "1688/1688 [==============================] - 6s 3ms/step - loss: 0.1474 - accuracy: 0.9550 - val_loss: 0.0957 - val_accuracy: 0.9747\n",
      "Epoch 32/1000\n",
      "1688/1688 [==============================] - 6s 3ms/step - loss: 0.1465 - accuracy: 0.9544 - val_loss: 0.1009 - val_accuracy: 0.9743\n",
      "Epoch 33/1000\n",
      "1688/1688 [==============================] - 6s 3ms/step - loss: 0.1475 - accuracy: 0.9547 - val_loss: 0.0982 - val_accuracy: 0.9738\n"
     ]
    }
   ],
   "source": [
    "try:\n",
    "    model_full.load_weights(model_path)\n",
    "except:\n",
    "    early_stopping = [EarlyStopping(monitor='val_loss', patience=5),\n",
    "                      ModelCheckpoint(filepath=model_path, monitor='val_loss', save_best_only=True)]\n",
    "    history = model_full.fit(x_train,\n",
    "                             y_train,\n",
    "                             epochs=1000,\n",
    "                             batch_size=32,\n",
    "                             class_weight=class_weights,\n",
    "                             validation_data=(x_val, y_val),\n",
    "                             callbacks=[early_stopping],\n",
    "                             shuffle=True\n",
    "                             )\n",
    "    model_full.load_weights(model_path)"
   ]
  },
  {
   "cell_type": "code",
   "execution_count": 64,
   "id": "02f939e0-9e84-44ae-8d8a-932c894821a7",
   "metadata": {},
   "outputs": [
    {
     "data": {
      "image/png": "[encoded data removed]",
      "text/plain": [
       "<Figure size 432x288 with 1 Axes>"
      ]
     },
     "metadata": {
      "needs_background": "light"
     },
     "output_type": "display_data"
    }
   ],
   "source": [
    "from matplotlib import pyplot as plt\n",
    "plt.plot(history.history['accuracy'])\n",
    "plt.plot(history.history['val_accuracy'])\n",
    "plt.title('model accuracy')\n",
    "plt.ylabel('accuracy')\n",
    "plt.xlabel('epoch')\n",
    "plt.legend(['train', 'val'], loc='upper left')\n",
    "plt.show()"
   ]
  },
  {
   "cell_type": "code",
   "execution_count": 65,
   "id": "96a49d8d-57f0-4ccc-a478-da7bd4ea5d5e",
   "metadata": {},
   "outputs": [
    {
     "name": "stdout",
     "output_type": "stream",
     "text": [
      "0.9754\n",
      "[[1.7587917e-08 5.9246055e-08 1.0530010e-07 ... 9.9999106e-01\n",
      "  6.0116490e-09 5.3569297e-06]\n",
      " [5.0176570e-09 6.8593772e-07 9.9999917e-01 ... 2.6870186e-09\n",
      "  2.6156444e-08 4.7585499e-12]\n",
      " [3.0367053e-09 9.9998748e-01 5.7459038e-06 ... 2.2017721e-06\n",
      "  3.3839815e-06 1.1525248e-08]\n",
      " ...\n",
      " [5.8350137e-11 1.7661504e-08 2.8464123e-11 ... 3.7282369e-08\n",
      "  1.5677480e-07 1.1045712e-06]\n",
      " [1.1043210e-17 2.0235755e-12 6.3050780e-13 ... 8.2336905e-15\n",
      "  6.8396844e-10 6.5492380e-15]\n",
      " [5.2358278e-08 9.2830657e-14 1.1254316e-10 ... 7.0197138e-12\n",
      "  6.8089888e-11 6.4813480e-12]]\n",
      "[7 2 1 ... 4 5 6]\n"
     ]
    }
   ],
   "source": [
    "Y_pred = model_full.predict(test_images)\n",
    "y_pred = np.argmax(Y_pred, axis=1)\n",
    "print(accuracy_score(test_labels, y_pred))\n",
    "print(Y_pred)\n",
    "print(y_pred)"
   ]
  },
  {
   "cell_type": "code",
   "execution_count": 66,
   "id": "e7ecf142-61ad-40f8-ae83-47202b87c09e",
   "metadata": {},
   "outputs": [
    {
     "name": "stdout",
     "output_type": "stream",
     "text": [
      "              precision    recall  f1-score   support\n",
      "\n",
      "           0       0.97      0.99      0.98       980\n",
      "           1       0.98      0.99      0.99      1135\n",
      "           2       0.98      0.97      0.98      1032\n",
      "           3       0.96      0.98      0.97      1010\n",
      "           4       0.98      0.97      0.98       982\n",
      "           5       0.98      0.97      0.97       892\n",
      "           6       0.98      0.98      0.98       958\n",
      "           7       0.97      0.97      0.97      1028\n",
      "           8       0.98      0.97      0.97       974\n",
      "           9       0.98      0.96      0.97      1009\n",
      "\n",
      "    accuracy                           0.98     10000\n",
      "   macro avg       0.98      0.98      0.98     10000\n",
      "weighted avg       0.98      0.98      0.98     10000\n",
      "\n"
     ]
    }
   ],
   "source": [
    "print(classification_report(test_labels, y_pred))"
   ]
  },
  {
   "cell_type": "code",
   "execution_count": null,
   "id": "330b9252-da83-4a38-a77e-94d271f5b861",
   "metadata": {},
   "outputs": [],
   "source": [
    "model_full.summary()"
   ]
  }
 ],
 "metadata": {
  "kernelspec": {
   "display_name": "Python 3",
   "language": "python",
   "name": "python3"
  },
  "language_info": {
   "codemirror_mode": {
    "name": "ipython",
    "version": 3
   },
   "file_extension": ".py",
   "mimetype": "text/x-python",
   "name": "python",
   "nbconvert_exporter": "python",
   "pygments_lexer": "ipython3",
   "version": "3.8.8"
  }
 },
 "nbformat": 4,
 "nbformat_minor": 5
}
