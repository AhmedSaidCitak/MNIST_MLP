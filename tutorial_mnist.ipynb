{
 "cells": [
  {
   "cell_type": "code",
   "execution_count": 1,
   "id": "2847a6b5-d89b-46b4-ac82-5ade70cb2453",
   "metadata": {},
   "outputs": [
    {
     "name": "stdout",
     "output_type": "stream",
     "text": [
      "(60000, 28, 28)\n",
      "(60000,)\n"
     ]
    }
   ],
   "source": [
    "import numpy as np\n",
    "import mnist\n",
    "from tensorflow import keras\n",
    "from tensorflow.keras.models import Sequential\n",
    "from tensorflow.keras.layers import Dense\n",
    "from tensorflow.keras.utils import to_categorical\n",
    "from tensorflow.keras.callbacks import EarlyStopping\n",
    "from tensorflow.keras.optimizers import Adam\n",
    "\n",
    "train_images = mnist.train_images()\n",
    "train_labels = mnist.train_labels()\n",
    "test_images = mnist.test_images()\n",
    "test_labels = mnist.test_labels()\n",
    "\n",
    "print(train_images.shape) # (60000, 28, 28)\n",
    "print(train_labels.shape) # (60000,)"
   ]
  },
  {
   "cell_type": "code",
   "execution_count": 2,
   "id": "c17cea61-4387-4e17-9ed7-082455d0793c",
   "metadata": {},
   "outputs": [
    {
     "name": "stdout",
     "output_type": "stream",
     "text": [
      "(60000, 784)\n",
      "(10000, 784)\n"
     ]
    }
   ],
   "source": [
    "# Normalize the images.\n",
    "train_images = (train_images / 255) - 0.5\n",
    "test_images = (test_images / 255) - 0.5\n",
    "\n",
    "# Flatten the images.\n",
    "train_images = train_images.reshape((-1, 784))\n",
    "test_images = test_images.reshape((-1, 784))\n",
    "\n",
    "print(train_images.shape) # (60000, 784)\n",
    "print(test_images.shape)  # (10000, 784)"
   ]
  },
  {
   "cell_type": "code",
   "execution_count": 3,
   "id": "040f692b-e28e-498c-8cdc-2737e25e7f5d",
   "metadata": {},
   "outputs": [],
   "source": [
    "model = Sequential([\n",
    "  Dense(64, activation='relu', input_shape=(784,)),\n",
    "  Dense(64, activation='relu'),\n",
    "  Dense(10, activation='softmax'),\n",
    "])"
   ]
  },
  {
   "cell_type": "code",
   "execution_count": 4,
   "id": "aec1d8e0-6903-4357-9987-e1d6a931be70",
   "metadata": {},
   "outputs": [],
   "source": [
    "model.compile(\n",
    "  optimizer=Adam(learning_rate=0.005),\n",
    "  loss='categorical_crossentropy',\n",
    "  metrics=['accuracy'],\n",
    ")"
   ]
  },
  {
   "cell_type": "code",
   "execution_count": 25,
   "id": "0dd495e9-43b2-43a5-b63f-b0ddbde919b1",
   "metadata": {},
   "outputs": [],
   "source": [
    "# monitor=accuracy, patience=8, min_delta=0.001 => l:0.2085 a:0.9609\n",
    "# monitor=accuracy, patience=10, min_delta=0.001 => l:0.2298 a:0.9524 / l:0.2944 a:0.9583\n",
    "# monitor=accuracy, patience=8 => l:0.3120 a:9551\n",
    "# monitor=accuracy, patience=10 => l:0.2984 a:9592\n",
    "# monitor=loss, patience=10 => l:0.3277 a:0.9567\n",
    "early_stopping = EarlyStopping(\n",
    "    monitor='loss', \n",
    "    patience=10, \n",
    "    mode='min'\n",
    ")"
   ]
  },
  {
   "cell_type": "code",
   "execution_count": 28,
   "id": "6c3cfff5-a833-4b87-b951-8e98a7d7edc1",
   "metadata": {},
   "outputs": [
    {
     "name": "stdout",
     "output_type": "stream",
     "text": [
      "Epoch 1/1000\n",
      "938/938 [==============================] - 2s 2ms/step - loss: 0.0667 - accuracy: 0.9818: 0s - loss: 0.0661 - accuracy: 0.\n",
      "Epoch 2/1000\n",
      "938/938 [==============================] - 2s 2ms/step - loss: 0.0710 - accuracy: 0.9808: 0s\n",
      "Epoch 3/1000\n",
      "938/938 [==============================] - 2s 2ms/step - loss: 0.0748 - accuracy: 0.9799\n",
      "Epoch 4/1000\n",
      "938/938 [==============================] - 2s 2ms/step - loss: 0.0769 - accuracy: 0.9792\n",
      "Epoch 5/1000\n",
      "938/938 [==============================] - 2s 2ms/step - loss: 0.0836 - accuracy: 0.9791\n",
      "Epoch 6/1000\n",
      "938/938 [==============================] - 2s 2ms/step - loss: 0.0865 - accuracy: 0.9786: 0s - loss: 0.0861 - accuracy: 0.\n",
      "Epoch 7/1000\n",
      "938/938 [==============================] - 2s 2ms/step - loss: 0.0686 - accuracy: 0.9811: 1s - loss: 0.0642 - ac - ETA: 0s - loss: 0.0646 - accuracy:  - ETA: 0s - loss: 0 - ETA: 0s - loss: 0.0690 - accuracy: 0.98\n",
      "Epoch 8/1000\n",
      "938/938 [==============================] - 2s 2ms/step - loss: 0.0783 - accuracy: 0.9793\n",
      "Epoch 9/1000\n",
      "938/938 [==============================] - 2s 2ms/step - loss: 0.0866 - accuracy: 0.9780\n",
      "Epoch 10/1000\n",
      "938/938 [==============================] - 2s 2ms/step - loss: 0.0850 - accuracy: 0.9790: 0s - loss:\n",
      "Epoch 11/1000\n",
      "938/938 [==============================] - 2s 2ms/step - loss: 0.0792 - accuracy: 0.9794: 0s - loss: 0.0750  - ETA: 0s - loss: 0.0769 - ac\n"
     ]
    },
    {
     "data": {
      "text/plain": [
       "<keras.callbacks.History at 0x1e703222640>"
      ]
     },
     "execution_count": 28,
     "metadata": {},
     "output_type": "execute_result"
    }
   ],
   "source": [
    "# batch_size 32->64 / l:0.3277 a:0.9567 -> l:0.3574 a:0.9617\n",
    "model.fit(\n",
    "  train_images, # training data\n",
    "  to_categorical(train_labels), # training targets\n",
    "  epochs=1000,\n",
    "  batch_size=32,\n",
    "  callbacks=[early_stopping]\n",
    ")"
   ]
  },
  {
   "cell_type": "code",
   "execution_count": 29,
   "id": "e91a4880-e424-4cdb-bf36-a3bf2ed6282b",
   "metadata": {},
   "outputs": [
    {
     "name": "stdout",
     "output_type": "stream",
     "text": [
      "313/313 [==============================] - 0s 1ms/step - loss: 0.3574 - accuracy: 0.9617\n"
     ]
    },
    {
     "data": {
      "text/plain": [
       "[0.3574228286743164, 0.9617000222206116]"
      ]
     },
     "execution_count": 29,
     "metadata": {},
     "output_type": "execute_result"
    }
   ],
   "source": [
    "model.evaluate(\n",
    "  test_images,\n",
    "  to_categorical(test_labels)\n",
    ")"
   ]
  }
 ],
 "metadata": {
  "kernelspec": {
   "display_name": "Python 3",
   "language": "python",
   "name": "python3"
  },
  "language_info": {
   "codemirror_mode": {
    "name": "ipython",
    "version": 3
   },
   "file_extension": ".py",
   "mimetype": "text/x-python",
   "name": "python",
   "nbconvert_exporter": "python",
   "pygments_lexer": "ipython3",
   "version": "3.8.8"
  }
 },
 "nbformat": 4,
 "nbformat_minor": 5
}
