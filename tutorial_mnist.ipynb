{
 "cells": [
  {
   "cell_type": "code",
   "execution_count": 24,
   "id": "2847a6b5-d89b-46b4-ac82-5ade70cb2453",
   "metadata": {},
   "outputs": [
    {
     "name": "stdout",
     "output_type": "stream",
     "text": [
      "(60000, 28, 28)\n",
      "(60000,)\n"
     ]
    }
   ],
   "source": [
    "import numpy as np\n",
    "import mnist\n",
    "from tensorflow import keras\n",
    "from tensorflow.keras.models import Sequential\n",
    "from tensorflow.keras.layers import Dense\n",
    "from tensorflow.keras.utils import to_categorical\n",
    "from tensorflow.keras.callbacks import EarlyStopping\n",
    "from tensorflow.keras.optimizers import Adam\n",
    "from sklearn.model_selection import train_test_split\n",
    "from sklearn.metrics import classification_report, accuracy_score\n",
    "\n",
    "train_images = mnist.train_images()\n",
    "train_labels = mnist.train_labels()\n",
    "test_images = mnist.test_images()\n",
    "test_labels = mnist.test_labels()\n",
    "\n",
    "print(train_images.shape) # (60000, 28, 28)\n",
    "print(train_labels.shape) # (60000,)"
   ]
  },
  {
   "cell_type": "code",
   "execution_count": 25,
   "id": "1c1455a4-fa35-4aff-8a57-dd2bca550139",
   "metadata": {},
   "outputs": [
    {
     "name": "stdout",
     "output_type": "stream",
     "text": [
      "(54000, 28, 28)\n",
      "(6000, 28, 28)\n",
      "(54000,)\n",
      "(6000,)\n"
     ]
    }
   ],
   "source": [
    "###\n",
    "seed = 1\n",
    "x_train, x_val, y_train, y_val = train_test_split(train_images, train_labels, test_size=0.1, random_state=seed)\n",
    "print(x_train.shape)\n",
    "print(x_val.shape) \n",
    "print(y_train.shape)\n",
    "print(y_val.shape) "
   ]
  },
  {
   "cell_type": "code",
   "execution_count": 26,
   "id": "b64932da-70b7-46b0-bb41-c076471d9e09",
   "metadata": {},
   "outputs": [
    {
     "name": "stdout",
     "output_type": "stream",
     "text": [
      "(54000, 784)\n",
      "(6000, 784)\n",
      "(10000, 784)\n"
     ]
    }
   ],
   "source": [
    "###\n",
    "# Normalize the images.\n",
    "x_train = (x_train / 255) - 0.5\n",
    "x_val = (x_val / 255) - 0.5\n",
    "test_images = (test_images / 255) - 0.5\n",
    "\n",
    "# Flatten the images.\n",
    "x_train = x_train.reshape((-1, 784))\n",
    "x_val = x_val.reshape((-1, 784))\n",
    "test_images = test_images.reshape((-1, 784))\n",
    "\n",
    "print(x_train.shape) # (60000, 784)\n",
    "print(x_val.shape)  # (6000, 784)\n",
    "print(test_images.shape)  # (10000, 784)"
   ]
  },
  {
   "cell_type": "code",
   "execution_count": 3,
   "id": "c17cea61-4387-4e17-9ed7-082455d0793c",
   "metadata": {},
   "outputs": [
    {
     "name": "stdout",
     "output_type": "stream",
     "text": [
      "(60000, 784)\n",
      "(10000, 784)\n"
     ]
    }
   ],
   "source": [
    "# Normalize the images.\n",
    "train_images = (train_images / 255) - 0.5\n",
    "test_images = (test_images / 255) - 0.5\n",
    "\n",
    "# Flatten the images.\n",
    "train_images = train_images.reshape((-1, 784))\n",
    "test_images = test_images.reshape((-1, 784))\n",
    "\n",
    "print(train_images.shape) # (60000, 784)\n",
    "print(test_images.shape)  # (10000, 784)"
   ]
  },
  {
   "cell_type": "code",
   "execution_count": 52,
   "id": "040f692b-e28e-498c-8cdc-2737e25e7f5d",
   "metadata": {},
   "outputs": [],
   "source": [
    "# 0.97 -> 0.94 / 2. layer 64 -> 10\n",
    "model = Sequential([\n",
    "  Dense(128, activation='relu', input_shape=(784,)),\n",
    "  Dense(64, activation='relu'),\n",
    "  Dense(32, activation='relu'),\n",
    "  Dense(10, activation='softmax'),\n",
    "])"
   ]
  },
  {
   "cell_type": "code",
   "execution_count": 53,
   "id": "aec1d8e0-6903-4357-9987-e1d6a931be70",
   "metadata": {},
   "outputs": [],
   "source": [
    "model.compile(\n",
    "  optimizer=Adam(learning_rate=0.001),\n",
    "  loss='categorical_crossentropy',\n",
    "  metrics=['accuracy'],\n",
    ")"
   ]
  },
  {
   "cell_type": "code",
   "execution_count": 5,
   "id": "5ae1f520-1a16-4465-9f50-9423fd5415ab",
   "metadata": {},
   "outputs": [],
   "source": [
    "### Early Stopping\n",
    "# monitor=accuracy, patience=8, min_delta=0.001 => l:0.2085 a:0.9609\n",
    "# monitor=accuracy, patience=10, min_delta=0.001 => l:0.2298 a:0.9524 / l:0.2944 a:0.9583\n",
    "# monitor=accuracy, patience=8 => l:0.3120 a:9551\n",
    "# monitor=accuracy, patience=10 => l:0.2984 a:9592\n",
    "# monitor=loss, patience=10 => l:0.3277 a:0.9567"
   ]
  },
  {
   "cell_type": "code",
   "execution_count": 54,
   "id": "0dd495e9-43b2-43a5-b63f-b0ddbde919b1",
   "metadata": {},
   "outputs": [],
   "source": [
    "early_stopping = EarlyStopping(\n",
    "    monitor='val_loss', \n",
    "    patience=15, \n",
    "    mode='min'\n",
    ")"
   ]
  },
  {
   "cell_type": "code",
   "execution_count": 63,
   "id": "6c3cfff5-a833-4b87-b951-8e98a7d7edc1",
   "metadata": {},
   "outputs": [
    {
     "name": "stdout",
     "output_type": "stream",
     "text": [
      "Epoch 1/1000\n",
      "422/422 [==============================] - 1s 3ms/step - loss: 0.0047 - accuracy: 0.9984 - val_loss: 0.1154 - val_accuracy: 0.9803\n",
      "Epoch 2/1000\n",
      "422/422 [==============================] - 1s 2ms/step - loss: 0.0064 - accuracy: 0.9979 - val_loss: 0.1546 - val_accuracy: 0.9723\n",
      "Epoch 3/1000\n",
      "422/422 [==============================] - 1s 3ms/step - loss: 0.0119 - accuracy: 0.9960 - val_loss: 0.1524 - val_accuracy: 0.9752\n",
      "Epoch 4/1000\n",
      "422/422 [==============================] - 1s 3ms/step - loss: 0.0115 - accuracy: 0.9958 - val_loss: 0.1473 - val_accuracy: 0.9768\n",
      "Epoch 5/1000\n",
      "422/422 [==============================] - 1s 3ms/step - loss: 0.0049 - accuracy: 0.9983 - val_loss: 0.1481 - val_accuracy: 0.9753\n",
      "Epoch 6/1000\n",
      "422/422 [==============================] - 1s 3ms/step - loss: 0.0058 - accuracy: 0.9980 - val_loss: 0.1482 - val_accuracy: 0.9747\n",
      "Epoch 7/1000\n",
      "422/422 [==============================] - 1s 2ms/step - loss: 0.0118 - accuracy: 0.9964 - val_loss: 0.1434 - val_accuracy: 0.9748\n",
      "Epoch 8/1000\n",
      "422/422 [==============================] - 1s 2ms/step - loss: 0.0059 - accuracy: 0.9978 - val_loss: 0.1542 - val_accuracy: 0.9748\n",
      "Epoch 9/1000\n",
      "422/422 [==============================] - 1s 2ms/step - loss: 0.0088 - accuracy: 0.9971 - val_loss: 0.1363 - val_accuracy: 0.9752\n",
      "Epoch 10/1000\n",
      "422/422 [==============================] - 1s 3ms/step - loss: 0.0049 - accuracy: 0.9983 - val_loss: 0.1538 - val_accuracy: 0.9777\n",
      "Epoch 11/1000\n",
      "422/422 [==============================] - 1s 2ms/step - loss: 0.0058 - accuracy: 0.9981 - val_loss: 0.1526 - val_accuracy: 0.9755\n",
      "Epoch 12/1000\n",
      "422/422 [==============================] - 1s 2ms/step - loss: 0.0127 - accuracy: 0.9957 - val_loss: 0.1594 - val_accuracy: 0.9748\n",
      "Epoch 13/1000\n",
      "422/422 [==============================] - 1s 2ms/step - loss: 0.0040 - accuracy: 0.9985 - val_loss: 0.1416 - val_accuracy: 0.9782\n",
      "Epoch 14/1000\n",
      "422/422 [==============================] - 1s 3ms/step - loss: 0.0014 - accuracy: 0.9996 - val_loss: 0.1422 - val_accuracy: 0.9788\n",
      "Epoch 15/1000\n",
      "422/422 [==============================] - 1s 2ms/step - loss: 0.0159 - accuracy: 0.9948 - val_loss: 0.1785 - val_accuracy: 0.9725\n",
      "Epoch 16/1000\n",
      "422/422 [==============================] - 1s 2ms/step - loss: 0.0068 - accuracy: 0.9974 - val_loss: 0.1539 - val_accuracy: 0.9755\n"
     ]
    },
    {
     "data": {
      "text/plain": [
       "<keras.callbacks.History at 0x1c42fd03be0>"
      ]
     },
     "execution_count": 63,
     "metadata": {},
     "output_type": "execute_result"
    }
   ],
   "source": [
    "# batch_size 32->64 / l:0.3277 a:0.9567 -> l:0.3574 a:0.9617\n",
    "model.fit(\n",
    "  x_train, # training data\n",
    "  to_categorical(y_train), # training targets\n",
    "  epochs=1000,\n",
    "  batch_size=128,\n",
    "  validation_data=(x_val, to_categorical(y_val)),\n",
    "  callbacks=[early_stopping],\n",
    ")"
   ]
  },
  {
   "cell_type": "code",
   "execution_count": 64,
   "id": "e91a4880-e424-4cdb-bf36-a3bf2ed6282b",
   "metadata": {},
   "outputs": [
    {
     "name": "stdout",
     "output_type": "stream",
     "text": [
      "313/313 [==============================] - 0s 1ms/step - loss: 0.1514 - accuracy: 0.9770\n"
     ]
    },
    {
     "data": {
      "text/plain": [
       "[0.15139010548591614, 0.9769999980926514]"
      ]
     },
     "execution_count": 64,
     "metadata": {},
     "output_type": "execute_result"
    }
   ],
   "source": [
    "model.evaluate(\n",
    "  test_images,\n",
    "  to_categorical(test_labels)\n",
    ")"
   ]
  },
  {
   "cell_type": "code",
   "execution_count": 65,
   "id": "1f896c6b-effa-4f60-be83-1d570d001ce2",
   "metadata": {},
   "outputs": [
    {
     "name": "stdout",
     "output_type": "stream",
     "text": [
      "0.977\n",
      "[[2.2499689e-16 1.5142906e-12 7.2200067e-12 ... 1.0000000e+00\n",
      "  1.8186934e-14 1.4401128e-11]\n",
      " [1.1997017e-20 2.2926657e-16 1.0000000e+00 ... 1.4659589e-33\n",
      "  9.8586136e-22 5.0594743e-28]\n",
      " [8.1572520e-11 9.9999964e-01 1.3747392e-07 ... 1.3222671e-08\n",
      "  1.4930771e-10 1.3590295e-13]\n",
      " ...\n",
      " [2.3783608e-33 1.0795384e-24 8.5370152e-33 ... 2.4908306e-16\n",
      "  3.5525488e-16 1.0097606e-13]\n",
      " [5.6103559e-13 9.9541837e-22 4.5625413e-22 ... 2.0535917e-13\n",
      "  1.9938261e-12 2.7336990e-18]\n",
      " [9.5530055e-21 1.5260779e-26 6.5586242e-27 ... 2.7017833e-37\n",
      "  2.5608492e-21 3.5877723e-21]]\n",
      "[7 2 1 ... 4 5 6]\n"
     ]
    }
   ],
   "source": [
    "Y_pred = model.predict(test_images)\n",
    "y_pred = np.argmax(Y_pred, axis=1)\n",
    "print(accuracy_score(test_labels, y_pred))\n",
    "print(Y_pred)\n",
    "print(y_pred)"
   ]
  },
  {
   "cell_type": "code",
   "execution_count": 66,
   "id": "8614b67d-6807-4827-83af-ae48695a88b4",
   "metadata": {},
   "outputs": [
    {
     "name": "stdout",
     "output_type": "stream",
     "text": [
      "              precision    recall  f1-score   support\n",
      "\n",
      "           0       0.98      0.98      0.98       980\n",
      "           1       0.99      0.99      0.99      1135\n",
      "           2       0.95      0.98      0.97      1032\n",
      "           3       0.97      0.98      0.98      1010\n",
      "           4       0.98      0.97      0.98       982\n",
      "           5       0.97      0.97      0.97       892\n",
      "           6       0.97      0.98      0.98       958\n",
      "           7       0.98      0.97      0.98      1028\n",
      "           8       0.98      0.97      0.97       974\n",
      "           9       0.98      0.97      0.97      1009\n",
      "\n",
      "    accuracy                           0.98     10000\n",
      "   macro avg       0.98      0.98      0.98     10000\n",
      "weighted avg       0.98      0.98      0.98     10000\n",
      "\n"
     ]
    }
   ],
   "source": [
    "print(classification_report(test_labels, y_pred))"
   ]
  },
  {
   "cell_type": "code",
   "execution_count": 10,
   "id": "b964d7d7-2da7-4268-8254-0b1cee14c85f",
   "metadata": {},
   "outputs": [
    {
     "name": "stdout",
     "output_type": "stream",
     "text": [
      "Model: \"sequential\"\n",
      "_________________________________________________________________\n",
      " Layer (type)                Output Shape              Param #   \n",
      "=================================================================\n",
      " dense (Dense)               (None, 64)                50240     \n",
      "                                                                 \n",
      " dense_1 (Dense)             (None, 64)                4160      \n",
      "                                                                 \n",
      " dense_2 (Dense)             (None, 10)                650       \n",
      "                                                                 \n",
      "=================================================================\n",
      "Total params: 55,050\n",
      "Trainable params: 55,050\n",
      "Non-trainable params: 0\n",
      "_________________________________________________________________\n"
     ]
    }
   ],
   "source": [
    "model.summary()"
   ]
  }
 ],
 "metadata": {
  "kernelspec": {
   "display_name": "Python 3",
   "language": "python",
   "name": "python3"
  },
  "language_info": {
   "codemirror_mode": {
    "name": "ipython",
    "version": 3
   },
   "file_extension": ".py",
   "mimetype": "text/x-python",
   "name": "python",
   "nbconvert_exporter": "python",
   "pygments_lexer": "ipython3",
   "version": "3.8.8"
  }
 },
 "nbformat": 4,
 "nbformat_minor": 5
}
