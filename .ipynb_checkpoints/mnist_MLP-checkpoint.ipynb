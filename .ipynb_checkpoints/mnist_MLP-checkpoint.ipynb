{
 "cells": [
  {
   "cell_type": "code",
   "execution_count": 1,
   "id": "4885e6ca-b523-4e0d-b8fa-cae3d2bd0036",
   "metadata": {},
   "outputs": [],
   "source": [
    "import numpy as np\n",
    "import mnist\n",
    "from tensorflow import keras\n",
    "import tensorflow.keras as ker\n",
    "from tensorflow.keras.layers import Input,Dense,Flatten,Dropout,Reshape,Conv2D,MaxPooling2D,UpSampling2D,Conv2DTranspose,concatenate,add,MaxPool2D\n",
    "from tensorflow.keras.layers import BatchNormalization,Conv3D,ConvLSTM2D,Conv3DTranspose,Permute,MaxPooling3D,UpSampling3D,GlobalAveragePooling2D\n",
    "from tensorflow.keras.layers import Conv2DTranspose,Concatenate,ReLU\n",
    "from tensorflow.keras.activations import sigmoid\n",
    "from tensorflow.keras.models import Model,Sequential\n",
    "from tensorflow.keras.callbacks import ModelCheckpoint,EarlyStopping\n",
    "from tensorflow.keras.optimizers import Adam, SGD\n",
    "from tensorflow.keras.utils import to_categorical\n",
    "from tensorflow.keras import regularizers, utils\n",
    "from keras.preprocessing.image import ImageDataGenerator\n",
    "from sklearn.metrics import classification_report, confusion_matrix, accuracy_score\n",
    "from sklearn.model_selection import train_test_split\n",
    "from sklearn.utils import class_weight\n",
    "from sklearn.decomposition import PCA\n",
    "from tensorflow.keras.applications import ResNet50, ResNet101, ResNet152V2"
   ]
  },
  {
   "cell_type": "code",
   "execution_count": 2,
   "id": "c45d2647-6eb4-4a86-87f8-f91d5ce5cd9e",
   "metadata": {},
   "outputs": [],
   "source": [
    "seed = 1\n",
    "path = 'D:\\Bixbyte\\MLP'\n",
    "model_path = path + '\\mnist\\model_mnist_MLP_' + str(seed) + '.h5'"
   ]
  },
  {
   "cell_type": "code",
   "execution_count": 3,
   "id": "cf743adb-fca7-4adc-85aa-f3cf9b7a7d07",
   "metadata": {},
   "outputs": [
    {
     "name": "stdout",
     "output_type": "stream",
     "text": [
      "(60000, 28, 28)\n",
      "(60000,)\n"
     ]
    }
   ],
   "source": [
    "train_images = mnist.train_images()\n",
    "train_labels = mnist.train_labels()\n",
    "\n",
    "print(train_images.shape) # (60000, 28, 28)\n",
    "print(train_labels.shape) # (60000,)"
   ]
  },
  {
   "cell_type": "code",
   "execution_count": 4,
   "id": "de32913d-236e-412b-830a-575026082995",
   "metadata": {},
   "outputs": [
    {
     "name": "stdout",
     "output_type": "stream",
     "text": [
      "(60000, 784)\n",
      "(10000, 784)\n"
     ]
    }
   ],
   "source": [
    "train_images = mnist.train_images()\n",
    "train_labels = mnist.train_labels()\n",
    "test_images = mnist.test_images()\n",
    "test_labels = mnist.test_labels()\n",
    "\n",
    "# Normalize the images.\n",
    "train_images = (train_images / 255)\n",
    "test_images = (test_images / 255)\n",
    "\n",
    "# Flatten the images.\n",
    "train_images = train_images.reshape((-1, 784))\n",
    "test_images = test_images.reshape((-1, 784))\n",
    "\n",
    "print(train_images.shape) # (60000, 784)\n",
    "print(test_images.shape)  # (10000, 784)"
   ]
  },
  {
   "cell_type": "code",
   "execution_count": 5,
   "id": "f85de072-541d-4af5-9548-519e88b4b4bf",
   "metadata": {},
   "outputs": [],
   "source": [
    "class_size = 10\n",
    "input_shape = (784,)\n",
    "input_feature = Input(input_shape)"
   ]
  },
  {
   "cell_type": "code",
   "execution_count": 6,
   "id": "d84e15d7-0742-4b1c-bbb7-36d65b910d43",
   "metadata": {},
   "outputs": [
    {
     "data": {
      "text/plain": [
       "array([[-0.5, -0.5, -0.5, ..., -0.5, -0.5, -0.5],\n",
       "       [-0.5, -0.5, -0.5, ..., -0.5, -0.5, -0.5],\n",
       "       [-0.5, -0.5, -0.5, ..., -0.5, -0.5, -0.5],\n",
       "       ...,\n",
       "       [-0.5, -0.5, -0.5, ..., -0.5, -0.5, -0.5],\n",
       "       [-0.5, -0.5, -0.5, ..., -0.5, -0.5, -0.5],\n",
       "       [-0.5, -0.5, -0.5, ..., -0.5, -0.5, -0.5]])"
      ]
     },
     "execution_count": 6,
     "metadata": {},
     "output_type": "execute_result"
    }
   ],
   "source": [
    "train_images"
   ]
  },
  {
   "cell_type": "code",
   "execution_count": 7,
   "id": "0c0a9d69-6543-4173-a2c1-66f0e7a17825",
   "metadata": {},
   "outputs": [
    {
     "data": {
      "text/plain": [
       "array([5, 0, 4, ..., 5, 6, 8], dtype=uint8)"
      ]
     },
     "execution_count": 7,
     "metadata": {},
     "output_type": "execute_result"
    }
   ],
   "source": [
    "train_labels"
   ]
  },
  {
   "cell_type": "code",
   "execution_count": 8,
   "id": "ad9f8b07-1642-46f8-bf6b-e314fc02a8f3",
   "metadata": {},
   "outputs": [
    {
     "data": {
      "text/plain": [
       "array([[-0.5, -0.5, -0.5, ..., -0.5, -0.5, -0.5],\n",
       "       [-0.5, -0.5, -0.5, ..., -0.5, -0.5, -0.5],\n",
       "       [-0.5, -0.5, -0.5, ..., -0.5, -0.5, -0.5],\n",
       "       ...,\n",
       "       [-0.5, -0.5, -0.5, ..., -0.5, -0.5, -0.5],\n",
       "       [-0.5, -0.5, -0.5, ..., -0.5, -0.5, -0.5],\n",
       "       [-0.5, -0.5, -0.5, ..., -0.5, -0.5, -0.5]])"
      ]
     },
     "execution_count": 8,
     "metadata": {},
     "output_type": "execute_result"
    }
   ],
   "source": [
    "test_images"
   ]
  },
  {
   "cell_type": "code",
   "execution_count": 9,
   "id": "8bfdae77-abd8-4d8e-9ed8-622bb7df9c1b",
   "metadata": {},
   "outputs": [
    {
     "data": {
      "text/plain": [
       "array([7, 2, 1, ..., 4, 5, 6], dtype=uint8)"
      ]
     },
     "execution_count": 9,
     "metadata": {},
     "output_type": "execute_result"
    }
   ],
   "source": [
    "test_labels"
   ]
  },
  {
   "cell_type": "code",
   "execution_count": 10,
   "id": "f2a5d7af-7d7f-4254-a7c8-beb669d6f245",
   "metadata": {},
   "outputs": [],
   "source": [
    "x_train, x_val, y_train, y_val = train_test_split(train_images, train_labels, test_size=0.1, random_state=seed)\n",
    "\n",
    "train_size = x_train.shape[0]\n",
    "val_size = x_val.shape[0]"
   ]
  },
  {
   "cell_type": "code",
   "execution_count": 11,
   "id": "cab600ce-fb4e-4204-81d7-7ce9d0eff0be",
   "metadata": {},
   "outputs": [],
   "source": [
    "class_weights = class_weight.compute_class_weight(class_weight='balanced',\n",
    "                                                 classes=np.unique(y_train),\n",
    "                                                 y=y_train)"
   ]
  },
  {
   "cell_type": "code",
   "execution_count": 12,
   "id": "b4817051-f60f-445e-984e-796c542f6b8d",
   "metadata": {},
   "outputs": [],
   "source": [
    "class_weights = {i : class_weights[i] for i in range(class_size)}"
   ]
  },
  {
   "cell_type": "code",
   "execution_count": 13,
   "id": "fdb780a0-78dc-43a1-bef9-0523cc6ea0c8",
   "metadata": {},
   "outputs": [],
   "source": [
    "y_train = to_categorical(y_train)\n",
    "y_val = to_categorical(y_val)"
   ]
  },
  {
   "cell_type": "code",
   "execution_count": 14,
   "id": "29c89d32-567e-4a05-9d18-a7b22060f47f",
   "metadata": {},
   "outputs": [],
   "source": [
    "def fcnn(encoded):\n",
    "    dense0 = Dropout(0.2)(encoded)\n",
    "    dense0 = BatchNormalization()(dense0)\n",
    "\n",
    "    dense1 = Dense(256)(dense0)\n",
    "    dense1 = Dropout(0.3)(dense1)\n",
    "    dense1 = BatchNormalization()(dense1)\n",
    "    dense1 = ReLU()(dense1)\n",
    "    \n",
    "    dense2 = Dense(32)(dense1)\n",
    "    dense2 = Dropout(0.4)(dense2)\n",
    "    dense2 = BatchNormalization()(dense2)\n",
    "    dense2 = ReLU()(dense2)\n",
    "\n",
    "    out = Dense(class_size, activation='softmax')(dense2)\n",
    "    return out"
   ]
  },
  {
   "cell_type": "code",
   "execution_count": 15,
   "id": "b3466911-b35a-4d69-8d05-198fd4384577",
   "metadata": {},
   "outputs": [],
   "source": [
    "adam = Adam(learning_rate=0.001)\n",
    "model_full = Model(input_feature, fcnn(input_feature))\n",
    "model_full.compile(loss='categorical_crossentropy', optimizer=adam, metrics=['accuracy'])"
   ]
  },
  {
   "cell_type": "code",
   "execution_count": 16,
   "id": "9b5df769-fa7a-46c3-984f-25f4960bfe5c",
   "metadata": {},
   "outputs": [],
   "source": [
    "try:\n",
    "    model_full.load_weights(model_path)\n",
    "except:\n",
    "    early_stopping = [EarlyStopping(monitor='val_loss', patience=5),\n",
    "                      ModelCheckpoint(filepath=model_path, monitor='val_loss', save_best_only=True)]\n",
    "    history = model_full.fit(x_train,\n",
    "                             y_train,\n",
    "                             epochs=10000,\n",
    "                             batch_size=train_size,\n",
    "                             class_weight=class_weights,\n",
    "                             validation_data=(x_val, y_val),\n",
    "                             callbacks=[early_stopping],\n",
    "                             shuffle=True\n",
    "                             )\n",
    "    model_full.load_weights(model_path)"
   ]
  },
  {
   "cell_type": "code",
   "execution_count": 17,
   "id": "96a49d8d-57f0-4ccc-a478-da7bd4ea5d5e",
   "metadata": {},
   "outputs": [
    {
     "name": "stdout",
     "output_type": "stream",
     "text": [
      "0.4806\n"
     ]
    }
   ],
   "source": [
    "Y_pred = model_full.predict(test_images)\n",
    "y_pred = np.argmax(Y_pred, axis=1)\n",
    "print(accuracy_score(test_labels, y_pred))"
   ]
  },
  {
   "cell_type": "code",
   "execution_count": 18,
   "id": "e7ecf142-61ad-40f8-ae83-47202b87c09e",
   "metadata": {},
   "outputs": [
    {
     "name": "stdout",
     "output_type": "stream",
     "text": [
      "              precision    recall  f1-score   support\n",
      "\n",
      "           0       0.35      0.98      0.52       980\n",
      "           1       0.84      0.95      0.89      1135\n",
      "           2       1.00      0.05      0.10      1032\n",
      "           3       1.00      0.02      0.04      1010\n",
      "           4       0.33      0.98      0.49       982\n",
      "           5       0.77      0.64      0.70       892\n",
      "           6       1.00      0.04      0.08       958\n",
      "           7       0.95      0.35      0.51      1028\n",
      "           8       1.00      0.00      0.01       974\n",
      "           9       0.42      0.75      0.54      1009\n",
      "\n",
      "    accuracy                           0.48     10000\n",
      "   macro avg       0.77      0.48      0.39     10000\n",
      "weighted avg       0.77      0.48      0.39     10000\n",
      "\n"
     ]
    }
   ],
   "source": [
    "print(classification_report(test_labels, y_pred))"
   ]
  }
 ],
 "metadata": {
  "kernelspec": {
   "display_name": "Python 3",
   "language": "python",
   "name": "python3"
  },
  "language_info": {
   "codemirror_mode": {
    "name": "ipython",
    "version": 3
   },
   "file_extension": ".py",
   "mimetype": "text/x-python",
   "name": "python",
   "nbconvert_exporter": "python",
   "pygments_lexer": "ipython3",
   "version": "3.8.8"
  }
 },
 "nbformat": 4,
 "nbformat_minor": 5
}
