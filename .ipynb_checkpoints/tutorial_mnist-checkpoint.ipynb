{
 "cells": [
  {
   "cell_type": "code",
   "execution_count": 24,
   "id": "2847a6b5-d89b-46b4-ac82-5ade70cb2453",
   "metadata": {},
   "outputs": [
    {
     "name": "stdout",
     "output_type": "stream",
     "text": [
      "(60000, 28, 28)\n",
      "(60000,)\n"
     ]
    }
   ],
   "source": [
    "import numpy as np\n",
    "import mnist\n",
    "from tensorflow import keras\n",
    "from tensorflow.keras.models import Sequential\n",
    "from tensorflow.keras.layers import Dense\n",
    "from tensorflow.keras.utils import to_categorical\n",
    "from tensorflow.keras.callbacks import EarlyStopping\n",
    "from tensorflow.keras.optimizers import Adam\n",
    "from sklearn.model_selection import train_test_split\n",
    "from sklearn.metrics import classification_report, accuracy_score\n",
    "\n",
    "train_images = mnist.train_images()\n",
    "train_labels = mnist.train_labels()\n",
    "test_images = mnist.test_images()\n",
    "test_labels = mnist.test_labels()\n",
    "\n",
    "print(train_images.shape) # (60000, 28, 28)\n",
    "print(train_labels.shape) # (60000,)"
   ]
  },
  {
   "cell_type": "code",
   "execution_count": 25,
   "id": "1c1455a4-fa35-4aff-8a57-dd2bca550139",
   "metadata": {},
   "outputs": [
    {
     "name": "stdout",
     "output_type": "stream",
     "text": [
      "(54000, 28, 28)\n",
      "(6000, 28, 28)\n",
      "(54000,)\n",
      "(6000,)\n"
     ]
    }
   ],
   "source": [
    "###\n",
    "seed = 1\n",
    "x_train, x_val, y_train, y_val = train_test_split(train_images, train_labels, test_size=0.1, random_state=seed)\n",
    "print(x_train.shape)\n",
    "print(x_val.shape) \n",
    "print(y_train.shape)\n",
    "print(y_val.shape) "
   ]
  },
  {
   "cell_type": "code",
   "execution_count": 26,
   "id": "b64932da-70b7-46b0-bb41-c076471d9e09",
   "metadata": {},
   "outputs": [
    {
     "name": "stdout",
     "output_type": "stream",
     "text": [
      "(54000, 784)\n",
      "(6000, 784)\n",
      "(10000, 784)\n"
     ]
    }
   ],
   "source": [
    "###\n",
    "# Normalize the images.\n",
    "x_train = (x_train / 255) - 0.5\n",
    "x_val = (x_val / 255) - 0.5\n",
    "test_images = (test_images / 255) - 0.5\n",
    "\n",
    "# Flatten the images.\n",
    "x_train = x_train.reshape((-1, 784))\n",
    "x_val = x_val.reshape((-1, 784))\n",
    "test_images = test_images.reshape((-1, 784))\n",
    "\n",
    "print(x_train.shape) # (60000, 784)\n",
    "print(x_val.shape)  # (6000, 784)\n",
    "print(test_images.shape)  # (10000, 784)"
   ]
  },
  {
   "cell_type": "code",
   "execution_count": 3,
   "id": "c17cea61-4387-4e17-9ed7-082455d0793c",
   "metadata": {},
   "outputs": [
    {
     "name": "stdout",
     "output_type": "stream",
     "text": [
      "(60000, 784)\n",
      "(10000, 784)\n"
     ]
    }
   ],
   "source": [
    "# Normalize the images.\n",
    "train_images = (train_images / 255) - 0.5\n",
    "test_images = (test_images / 255) - 0.5\n",
    "\n",
    "# Flatten the images.\n",
    "train_images = train_images.reshape((-1, 784))\n",
    "test_images = test_images.reshape((-1, 784))\n",
    "\n",
    "print(train_images.shape) # (60000, 784)\n",
    "print(test_images.shape)  # (10000, 784)"
   ]
  },
  {
   "cell_type": "code",
   "execution_count": 52,
   "id": "040f692b-e28e-498c-8cdc-2737e25e7f5d",
   "metadata": {},
   "outputs": [],
   "source": [
    "# 0.97 -> 0.94 / 2. layer 64 -> 10\n",
    "model = Sequential([\n",
    "  Dense(128, activation='relu', input_shape=(784,)),\n",
    "  Dense(64, activation='relu'),\n",
    "  Dense(32, activation='relu'),\n",
    "  Dense(10, activation='softmax'),\n",
    "])"
   ]
  },
  {
   "cell_type": "code",
   "execution_count": 72,
   "id": "aec1d8e0-6903-4357-9987-e1d6a931be70",
   "metadata": {},
   "outputs": [],
   "source": [
    "model.compile(\n",
    "  optimizer=Adam(learning_rate=0.001),\n",
    "  loss='categorical_crossentropy',\n",
    "  metrics=['accuracy'],\n",
    ")"
   ]
  },
  {
   "cell_type": "code",
   "execution_count": 5,
   "id": "5ae1f520-1a16-4465-9f50-9423fd5415ab",
   "metadata": {},
   "outputs": [],
   "source": [
    "### Early Stopping\n",
    "# monitor=accuracy, patience=8, min_delta=0.001 => l:0.2085 a:0.9609\n",
    "# monitor=accuracy, patience=10, min_delta=0.001 => l:0.2298 a:0.9524 / l:0.2944 a:0.9583\n",
    "# monitor=accuracy, patience=8 => l:0.3120 a:9551\n",
    "# monitor=accuracy, patience=10 => l:0.2984 a:9592\n",
    "# monitor=loss, patience=10 => l:0.3277 a:0.9567"
   ]
  },
  {
   "cell_type": "code",
   "execution_count": 73,
   "id": "0dd495e9-43b2-43a5-b63f-b0ddbde919b1",
   "metadata": {},
   "outputs": [],
   "source": [
    "early_stopping = EarlyStopping(\n",
    "    monitor='val_loss', \n",
    "    patience=15, \n",
    "    mode='min'\n",
    ")"
   ]
  },
  {
   "cell_type": "code",
   "execution_count": 74,
   "id": "6c3cfff5-a833-4b87-b951-8e98a7d7edc1",
   "metadata": {},
   "outputs": [
    {
     "name": "stdout",
     "output_type": "stream",
     "text": [
      "Epoch 1/1000\n",
      "422/422 [==============================] - 1s 3ms/step - loss: 0.0250 - accuracy: 0.9930 - val_loss: 0.1325 - val_accuracy: 0.9743\n",
      "Epoch 2/1000\n",
      "422/422 [==============================] - 1s 3ms/step - loss: 0.0198 - accuracy: 0.9939 - val_loss: 0.1731 - val_accuracy: 0.9678\n",
      "Epoch 3/1000\n",
      "422/422 [==============================] - 1s 2ms/step - loss: 0.0229 - accuracy: 0.9934 - val_loss: 0.1374 - val_accuracy: 0.9753\n",
      "Epoch 4/1000\n",
      "422/422 [==============================] - 1s 3ms/step - loss: 0.0236 - accuracy: 0.9931 - val_loss: 0.1442 - val_accuracy: 0.9727\n",
      "Epoch 5/1000\n",
      "422/422 [==============================] - 1s 3ms/step - loss: 0.0162 - accuracy: 0.9952 - val_loss: 0.1696 - val_accuracy: 0.9727\n",
      "Epoch 6/1000\n",
      "422/422 [==============================] - 1s 2ms/step - loss: 0.0166 - accuracy: 0.9950 - val_loss: 0.1613 - val_accuracy: 0.9730\n",
      "Epoch 7/1000\n",
      "422/422 [==============================] - 1s 2ms/step - loss: 0.0216 - accuracy: 0.9937 - val_loss: 0.1402 - val_accuracy: 0.9750\n",
      "Epoch 8/1000\n",
      "422/422 [==============================] - 1s 3ms/step - loss: 0.0184 - accuracy: 0.9946 - val_loss: 0.1469 - val_accuracy: 0.9740\n",
      "Epoch 9/1000\n",
      "422/422 [==============================] - 1s 2ms/step - loss: 0.0150 - accuracy: 0.9961 - val_loss: 0.1862 - val_accuracy: 0.9695\n",
      "Epoch 10/1000\n",
      "422/422 [==============================] - 1s 2ms/step - loss: 0.0184 - accuracy: 0.9947 - val_loss: 0.1581 - val_accuracy: 0.9755\n",
      "Epoch 11/1000\n",
      "422/422 [==============================] - 1s 2ms/step - loss: 0.0216 - accuracy: 0.9934 - val_loss: 0.1765 - val_accuracy: 0.9703\n",
      "Epoch 12/1000\n",
      "422/422 [==============================] - 1s 3ms/step - loss: 0.0087 - accuracy: 0.9973 - val_loss: 0.1820 - val_accuracy: 0.9733\n",
      "Epoch 13/1000\n",
      "422/422 [==============================] - 1s 3ms/step - loss: 0.0180 - accuracy: 0.9949 - val_loss: 0.1484 - val_accuracy: 0.9753\n",
      "Epoch 14/1000\n",
      "422/422 [==============================] - 1s 2ms/step - loss: 0.0218 - accuracy: 0.9942 - val_loss: 0.1420 - val_accuracy: 0.9735\n",
      "Epoch 15/1000\n",
      "422/422 [==============================] - 1s 2ms/step - loss: 0.0182 - accuracy: 0.9949 - val_loss: 0.1738 - val_accuracy: 0.9712\n",
      "Epoch 16/1000\n",
      "422/422 [==============================] - 1s 2ms/step - loss: 0.0119 - accuracy: 0.9966 - val_loss: 0.1452 - val_accuracy: 0.9747\n"
     ]
    },
    {
     "data": {
      "text/plain": [
       "<keras.callbacks.History at 0x1c432bec880>"
      ]
     },
     "execution_count": 74,
     "metadata": {},
     "output_type": "execute_result"
    }
   ],
   "source": [
    "# batch_size 32->64 / l:0.3277 a:0.9567 -> l:0.3574 a:0.9617\n",
    "model.fit(\n",
    "  x_train, # training data\n",
    "  to_categorical(y_train), # training targets\n",
    "  epochs=1000,\n",
    "  batch_size=128,\n",
    "  validation_data=(x_val, to_categorical(y_val)),\n",
    "  callbacks=[early_stopping],\n",
    ")"
   ]
  },
  {
   "cell_type": "code",
   "execution_count": 75,
   "id": "e91a4880-e424-4cdb-bf36-a3bf2ed6282b",
   "metadata": {},
   "outputs": [
    {
     "name": "stdout",
     "output_type": "stream",
     "text": [
      "313/313 [==============================] - 0s 1ms/step - loss: 0.1404 - accuracy: 0.9784\n"
     ]
    },
    {
     "data": {
      "text/plain": [
       "[0.14040715992450714, 0.9783999919891357]"
      ]
     },
     "execution_count": 75,
     "metadata": {},
     "output_type": "execute_result"
    }
   ],
   "source": [
    "model.evaluate(\n",
    "  test_images,\n",
    "  to_categorical(test_labels)\n",
    ")"
   ]
  },
  {
   "cell_type": "code",
   "execution_count": 76,
   "id": "1f896c6b-effa-4f60-be83-1d570d001ce2",
   "metadata": {},
   "outputs": [
    {
     "name": "stdout",
     "output_type": "stream",
     "text": [
      "0.9784\n",
      "[[4.10397723e-23 8.60691241e-10 4.90234210e-13 ... 1.00000000e+00\n",
      "  4.58654709e-17 7.57239688e-11]\n",
      " [1.13170359e-11 2.47241108e-14 1.00000000e+00 ... 3.00583386e-12\n",
      "  3.56023747e-18 4.07627523e-19]\n",
      " [2.23274402e-11 9.99987602e-01 9.55964266e-11 ... 1.03386728e-05\n",
      "  1.52134328e-06 2.05552695e-08]\n",
      " ...\n",
      " [2.50193055e-19 8.46339397e-14 9.80392131e-17 ... 2.45265132e-14\n",
      "  1.53710473e-16 1.21795855e-11]\n",
      " [1.43210927e-18 0.00000000e+00 1.68124462e-24 ... 2.24243252e-20\n",
      "  1.17655028e-14 1.43245061e-22]\n",
      " [1.39666413e-24 1.88298251e-25 0.00000000e+00 ... 0.00000000e+00\n",
      "  4.52824075e-31 9.65861923e-34]]\n",
      "[7 2 1 ... 4 5 6]\n"
     ]
    }
   ],
   "source": [
    "Y_pred = model.predict(test_images)\n",
    "y_pred = np.argmax(Y_pred, axis=1)\n",
    "print(accuracy_score(test_labels, y_pred))\n",
    "print(Y_pred)\n",
    "print(y_pred)"
   ]
  },
  {
   "cell_type": "code",
   "execution_count": 77,
   "id": "8614b67d-6807-4827-83af-ae48695a88b4",
   "metadata": {},
   "outputs": [
    {
     "name": "stdout",
     "output_type": "stream",
     "text": [
      "              precision    recall  f1-score   support\n",
      "\n",
      "           0       0.98      0.99      0.99       980\n",
      "           1       0.99      0.99      0.99      1135\n",
      "           2       0.98      0.97      0.98      1032\n",
      "           3       0.98      0.98      0.98      1010\n",
      "           4       0.98      0.97      0.98       982\n",
      "           5       0.97      0.98      0.98       892\n",
      "           6       0.98      0.98      0.98       958\n",
      "           7       0.96      0.99      0.97      1028\n",
      "           8       0.97      0.98      0.97       974\n",
      "           9       0.98      0.95      0.97      1009\n",
      "\n",
      "    accuracy                           0.98     10000\n",
      "   macro avg       0.98      0.98      0.98     10000\n",
      "weighted avg       0.98      0.98      0.98     10000\n",
      "\n"
     ]
    }
   ],
   "source": [
    "print(classification_report(test_labels, y_pred))"
   ]
  },
  {
   "cell_type": "code",
   "execution_count": 10,
   "id": "b964d7d7-2da7-4268-8254-0b1cee14c85f",
   "metadata": {},
   "outputs": [
    {
     "name": "stdout",
     "output_type": "stream",
     "text": [
      "Model: \"sequential\"\n",
      "_________________________________________________________________\n",
      " Layer (type)                Output Shape              Param #   \n",
      "=================================================================\n",
      " dense (Dense)               (None, 64)                50240     \n",
      "                                                                 \n",
      " dense_1 (Dense)             (None, 64)                4160      \n",
      "                                                                 \n",
      " dense_2 (Dense)             (None, 10)                650       \n",
      "                                                                 \n",
      "=================================================================\n",
      "Total params: 55,050\n",
      "Trainable params: 55,050\n",
      "Non-trainable params: 0\n",
      "_________________________________________________________________\n"
     ]
    }
   ],
   "source": [
    "model.summary()"
   ]
  }
 ],
 "metadata": {
  "kernelspec": {
   "display_name": "Python 3",
   "language": "python",
   "name": "python3"
  },
  "language_info": {
   "codemirror_mode": {
    "name": "ipython",
    "version": 3
   },
   "file_extension": ".py",
   "mimetype": "text/x-python",
   "name": "python",
   "nbconvert_exporter": "python",
   "pygments_lexer": "ipython3",
   "version": "3.8.8"
  }
 },
 "nbformat": 4,
 "nbformat_minor": 5
}
